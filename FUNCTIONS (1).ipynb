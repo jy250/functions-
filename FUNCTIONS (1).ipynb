{
  "nbformat": 4,
  "nbformat_minor": 0,
  "metadata": {
    "colab": {
      "provenance": []
    },
    "kernelspec": {
      "name": "python3",
      "display_name": "Python 3"
    },
    "language_info": {
      "name": "python"
    }
  },
  "cells": [
    {
      "cell_type": "code",
      "execution_count": 3,
      "metadata": {
        "colab": {
          "base_uri": "https://localhost:8080/",
          "height": 53
        },
        "id": "r36U2CpYkXAa",
        "outputId": "6787e25b-1f6f-4d5e-c056-3501ef47214b"
      },
      "outputs": [
        {
          "output_type": "execute_result",
          "data": {
            "text/plain": [
              "' Python is a high-level, interpreted programming language known  for its readability, simplicity, and versatility.  \\n        Python Popular ->    Ease of Learning & Use\\n                       ->    Versatility\\n                       ->    Strong Community and Ecosystem\\n                       ->    Demand in the Job Market\\n                       ->    Integration Capabilities\\n'"
            ],
            "application/vnd.google.colaboratory.intrinsic+json": {
              "type": "string"
            }
          },
          "metadata": {},
          "execution_count": 3
        }
      ],
      "source": [
        "    #  What is Python, and why is it popular ?\n",
        "    \"\"\" Python is a high-level, interpreted programming language known  for its readability, simplicity, and versatility.\n",
        "           Python Popular ->    Ease of Learning & Use\n",
        "                           ->    Versatility\n",
        "                           ->    Strong Community and Ecosystem\n",
        "                           ->    Demand in the Job Market\n",
        "                           ->    Integration Capabilities\n",
        "    \"\"\""
      ]
    },
    {
      "cell_type": "code",
      "source": [
        "  #  What is an interpreter in Python ?\n",
        "  \"\"\"An interpreter in Python is a program that reads and executes Python code line by line. Unlike compiled languages (like C or Java), where code is translated into machine code before execution, Python code is interpreted at runtime.\n",
        "  \"\"\""
      ],
      "metadata": {
        "colab": {
          "base_uri": "https://localhost:8080/",
          "height": 53
        },
        "id": "7bu_T2p8nKaH",
        "outputId": "ac98aa88-fedf-4857-e473-37159a4aa0fe"
      },
      "execution_count": 4,
      "outputs": [
        {
          "output_type": "execute_result",
          "data": {
            "text/plain": [
              "'An interpreter in Python is a program that reads and executes Python code line by line. Unlike compiled languages (like C or Java), where code is translated into machine code before execution, Python code is interpreted at runtime.\\n'"
            ],
            "application/vnd.google.colaboratory.intrinsic+json": {
              "type": "string"
            }
          },
          "metadata": {},
          "execution_count": 4
        }
      ]
    },
    {
      "cell_type": "code",
      "source": [
        "#  What are pre-defined keywords in Python\n",
        "\n",
        "\"\"\"In Python, pre-defined keywords (also called reserved words) are special words that are built into the language. These words have specific meanings and cannot be used as identifiers (like variable or function names) because they are part of Python’s syntax and structure.\n",
        "\"\"\""
      ],
      "metadata": {
        "colab": {
          "base_uri": "https://localhost:8080/",
          "height": 53
        },
        "id": "799cEX6Mntsj",
        "outputId": "cf550e55-07d7-4451-cce8-8100a4d7ee60"
      },
      "execution_count": 5,
      "outputs": [
        {
          "output_type": "execute_result",
          "data": {
            "text/plain": [
              "'In Python, pre-defined keywords (also called reserved words) are special words that are built into the language. These words have specific meanings and cannot be used as identifiers (like variable or function names) because they are part of Python’s syntax and structure.\\n'"
            ],
            "application/vnd.google.colaboratory.intrinsic+json": {
              "type": "string"
            }
          },
          "metadata": {},
          "execution_count": 5
        }
      ]
    },
    {
      "cell_type": "code",
      "source": [
        "#   Can keywords be used as variable names\n",
        "\"\"\"  No, keywords cannot be used as variable names in Python.\n",
        "\"\"\""
      ],
      "metadata": {
        "colab": {
          "base_uri": "https://localhost:8080/",
          "height": 35
        },
        "id": "CZnJDZmSoDRT",
        "outputId": "c4ff646e-47f3-4eb4-8df8-084902d91c49"
      },
      "execution_count": 6,
      "outputs": [
        {
          "output_type": "execute_result",
          "data": {
            "text/plain": [
              "'  No, keywords cannot be used as variable names in Python.\\n'"
            ],
            "application/vnd.google.colaboratory.intrinsic+json": {
              "type": "string"
            }
          },
          "metadata": {},
          "execution_count": 6
        }
      ]
    },
    {
      "cell_type": "code",
      "source": [
        "#    What is mutability in Python\n",
        "\"\"\"In Python, mutability refers to whether or not an object can be changed after it is created.\n",
        "\"\"\""
      ],
      "metadata": {
        "colab": {
          "base_uri": "https://localhost:8080/",
          "height": 35
        },
        "id": "AOZDbN1toaaH",
        "outputId": "49ec5d6f-b59c-44f8-ff1b-93257a65a3d6"
      },
      "execution_count": 7,
      "outputs": [
        {
          "output_type": "execute_result",
          "data": {
            "text/plain": [
              "'In Python, mutability refers to whether or not an object can be changed after it is created.\\n'"
            ],
            "application/vnd.google.colaboratory.intrinsic+json": {
              "type": "string"
            }
          },
          "metadata": {},
          "execution_count": 7
        }
      ]
    },
    {
      "cell_type": "code",
      "source": [
        "#   Why are lists mutable, but tuples are immutable\n",
        "\"\"\"Great question! The difference in mutability between lists and tuples in Python comes down to design choices based on use cases, efficiency, and safety. Here's a clear explanation.\n",
        "\n",
        "\"\"\""
      ],
      "metadata": {
        "colab": {
          "base_uri": "https://localhost:8080/",
          "height": 35
        },
        "id": "PyVmplONo2bh",
        "outputId": "ff59c875-0caf-4545-a57e-8d218fbded20"
      },
      "execution_count": 8,
      "outputs": [
        {
          "output_type": "execute_result",
          "data": {
            "text/plain": [
              "\"Great question! The difference in mutability between lists and tuples in Python comes down to design choices based on use cases, efficiency, and safety. Here's a clear explanation.\\n\\n\""
            ],
            "application/vnd.google.colaboratory.intrinsic+json": {
              "type": "string"
            }
          },
          "metadata": {},
          "execution_count": 8
        }
      ]
    },
    {
      "cell_type": "code",
      "source": [
        "#  What is the difference between “==” and “is” operators in Python\n",
        "\"\"\" == and is are not the same — they test different things\n",
        "    == → Equality & is → Identity\n",
        "\"\"\""
      ],
      "metadata": {
        "colab": {
          "base_uri": "https://localhost:8080/",
          "height": 35
        },
        "id": "IA7pj7DopOeE",
        "outputId": "3ba16ef4-d822-4414-a0f5-973615636878"
      },
      "execution_count": 9,
      "outputs": [
        {
          "output_type": "execute_result",
          "data": {
            "text/plain": [
              "' == and is are not the same — they test different things\\n    == → Equality & is → Identity\\n'"
            ],
            "application/vnd.google.colaboratory.intrinsic+json": {
              "type": "string"
            }
          },
          "metadata": {},
          "execution_count": 9
        }
      ]
    },
    {
      "cell_type": "code",
      "source": [
        "#  What are logical operators in Python\n",
        "\"\"\"Logical operators in Python are used to combine conditional statements (i.e., expressions that return True or False). They let you build more complex conditions.\n",
        "\"\"\""
      ],
      "metadata": {
        "colab": {
          "base_uri": "https://localhost:8080/",
          "height": 35
        },
        "id": "PLtHpDkzpuXo",
        "outputId": "175afde7-44c5-4cfa-f74b-8e287e27c91d"
      },
      "execution_count": 10,
      "outputs": [
        {
          "output_type": "execute_result",
          "data": {
            "text/plain": [
              "'Logical operators in Python are used to combine conditional statements (i.e., expressions that return True or False). They let you build more complex conditions.\\n'"
            ],
            "application/vnd.google.colaboratory.intrinsic+json": {
              "type": "string"
            }
          },
          "metadata": {},
          "execution_count": 10
        }
      ]
    },
    {
      "cell_type": "markdown",
      "source": [],
      "metadata": {
        "id": "nDl9V234k6kg"
      }
    },
    {
      "cell_type": "code",
      "source": [
        "#  What is type casting in Python\n",
        "\"\"\"Type casting (also called type conversion) is the process of changing the data type of a value from one type to another — like turning a string into an integer, or a float into a string.\n",
        "\"\"\""
      ],
      "metadata": {
        "colab": {
          "base_uri": "https://localhost:8080/",
          "height": 35
        },
        "id": "owpxhcp2p9Yg",
        "outputId": "f2a52937-0f79-40ae-f5fc-86b4ed003f2d"
      },
      "execution_count": 11,
      "outputs": [
        {
          "output_type": "execute_result",
          "data": {
            "text/plain": [
              "'Type casting (also called type conversion) is the process of changing the data type of a value from one type to another — like turning a string into an integer, or a float into a string.\\n'"
            ],
            "application/vnd.google.colaboratory.intrinsic+json": {
              "type": "string"
            }
          },
          "metadata": {},
          "execution_count": 11
        }
      ]
    },
    {
      "cell_type": "code",
      "source": [
        "#   What is the difference between implicit and explicit type casting\n",
        "\"\"\"It’s about changing a value from one data type to another — like from string to int, or int to float.\n",
        "\"\"\""
      ],
      "metadata": {
        "colab": {
          "base_uri": "https://localhost:8080/",
          "height": 35
        },
        "id": "RDP2ZRxSqPel",
        "outputId": "2747c30e-dc1f-408c-a305-289d48bc8d65"
      },
      "execution_count": 12,
      "outputs": [
        {
          "output_type": "execute_result",
          "data": {
            "text/plain": [
              "'It’s about changing a value from one data type to another — like from string to int, or int to float.\\n'"
            ],
            "application/vnd.google.colaboratory.intrinsic+json": {
              "type": "string"
            }
          },
          "metadata": {},
          "execution_count": 12
        }
      ]
    },
    {
      "cell_type": "code",
      "source": [
        "#  What is the purpose of conditional statements in Python\n",
        "\"\"\"Conditional statements in Python are used to make decisions in your code. They allow your program to choose different actions based on conditions — like a “yes or no” situation.\n",
        "\"\"\""
      ],
      "metadata": {
        "colab": {
          "base_uri": "https://localhost:8080/",
          "height": 35
        },
        "id": "ECV9gLrbqcBM",
        "outputId": "7ae0d31f-1ff1-4d44-b56c-ff05ce05c39f"
      },
      "execution_count": 13,
      "outputs": [
        {
          "output_type": "execute_result",
          "data": {
            "text/plain": [
              "'Conditional statements in Python are used to make decisions in your code. They allow your program to choose different actions based on conditions — like a “yes or no” situation.\\n'"
            ],
            "application/vnd.google.colaboratory.intrinsic+json": {
              "type": "string"
            }
          },
          "metadata": {},
          "execution_count": 13
        }
      ]
    },
    {
      "cell_type": "code",
      "source": [
        "#  How does the elif statement work\n",
        "\"\"\"The elif (short for else if) statement is used to check multiple conditions one after another in an if...elif...else structure.\n",
        "\"\"\""
      ],
      "metadata": {
        "colab": {
          "base_uri": "https://localhost:8080/",
          "height": 35
        },
        "id": "iVwpslTUqbiG",
        "outputId": "a58acc66-6605-46a4-d3fe-3b032a5fac7f"
      },
      "execution_count": 14,
      "outputs": [
        {
          "output_type": "execute_result",
          "data": {
            "text/plain": [
              "'The elif (short for else if) statement is used to check multiple conditions one after another in an if...elif...else structure.\\n'"
            ],
            "application/vnd.google.colaboratory.intrinsic+json": {
              "type": "string"
            }
          },
          "metadata": {},
          "execution_count": 14
        }
      ]
    },
    {
      "cell_type": "code",
      "source": [
        "#  What is the difference between for and while loops\n",
        "\"\"\"   for loop                                                       \twhile loop\n",
        "      Iterating over a sequence\t                              Repeating while a condition is True\n",
        "      When you know how many times to loop                   \tWhen you don’t know how many times you'll\n",
        "       Sequence is exhausted (like a list or range)              \tCondition becomes False\n",
        "  range(), list, tuple, str\t                                Counters, user input, or conditions\n",
        "  \"\"\"\n"
      ],
      "metadata": {
        "colab": {
          "base_uri": "https://localhost:8080/",
          "height": 70
        },
        "id": "VAnFN1rrq-_i",
        "outputId": "8df44182-add2-468c-a264-0a26f47ea2c2"
      },
      "execution_count": 16,
      "outputs": [
        {
          "output_type": "execute_result",
          "data": {
            "text/plain": [
              "\"   for loop                                                       \\twhile loop\\n      Iterating over a sequence\\t                              Repeating while a condition is True\\n      When you know how many times to loop                   \\tWhen you don’t know how many times you'll\\n       Sequence is exhausted (like a list or range)              \\tCondition becomes False\\n  range(), list, tuple, str\\t                                Counters, user input, or conditions  \\n  \""
            ],
            "application/vnd.google.colaboratory.intrinsic+json": {
              "type": "string"
            }
          },
          "metadata": {},
          "execution_count": 16
        }
      ]
    },
    {
      "cell_type": "code",
      "source": [
        "#   Describe a scenario where a while loop is more suitable than a for loop.\n",
        "\"\"\"Scenario Where a while Loop Is More Suitable Than a for Loop\n",
        "   correct_password = \"python123\"\n",
        "user_input = \"\"\n",
        "\n",
        "while user_input != correct_password:\n",
        "    user_input = input(\"Enter your password: \")\n",
        "\n",
        "print(\"Access granted!\")\n",
        "\n",
        "\"\"\"\n"
      ],
      "metadata": {
        "colab": {
          "base_uri": "https://localhost:8080/",
          "height": 53
        },
        "id": "YTCQ1OGMrYAV",
        "outputId": "c4802e8f-2143-4d6b-aa15-027ff050095a"
      },
      "execution_count": 17,
      "outputs": [
        {
          "output_type": "execute_result",
          "data": {
            "text/plain": [
              "'Scenario Where a while Loop Is More Suitable Than a for Loop\\n   correct_password = \"python123\"\\nuser_input = \"\"\\n\\nwhile user_input != correct_password:\\n    user_input = input(\"Enter your password: \")\\n\\nprint(\"Access granted!\")\\n\\n'"
            ],
            "application/vnd.google.colaboratory.intrinsic+json": {
              "type": "string"
            }
          },
          "metadata": {},
          "execution_count": 17
        }
      ]
    },
    {
      "cell_type": "code",
      "source": [],
      "metadata": {
        "id": "cA0GtkResrpu"
      },
      "execution_count": null,
      "outputs": []
    },
    {
      "cell_type": "markdown",
      "source": [
        "python pratical question"
      ],
      "metadata": {
        "id": "oSi7IILj23Zk"
      }
    },
    {
      "cell_type": "code",
      "source": [
        "print(\"hello,world!\")"
      ],
      "metadata": {
        "colab": {
          "base_uri": "https://localhost:8080/"
        },
        "id": "naYmKPqw2zKc",
        "outputId": "1a1917a2-283b-4b69-bf7e-b53ff7f47d8b"
      },
      "execution_count": 18,
      "outputs": [
        {
          "output_type": "stream",
          "name": "stdout",
          "text": [
            "hello,world!\n"
          ]
        }
      ]
    },
    {
      "cell_type": "code",
      "source": [
        "name = \"Jyoti ranjan\"\n",
        "age = 22\n",
        "\n",
        "print(\"Name\",name)\n",
        "print(\"age\",age)"
      ],
      "metadata": {
        "colab": {
          "base_uri": "https://localhost:8080/"
        },
        "id": "ITFYHlaN4qxQ",
        "outputId": "d461f38f-6327-40e2-cbd6-76583d2f802b"
      },
      "execution_count": 24,
      "outputs": [
        {
          "output_type": "stream",
          "name": "stdout",
          "text": [
            "Name Jyoti ranjan\n",
            "age 22\n"
          ]
        }
      ]
    },
    {
      "cell_type": "markdown",
      "source": [],
      "metadata": {
        "id": "LyaJhnqb2u8T"
      }
    },
    {
      "cell_type": "code",
      "source": [
        "import keyword\n",
        "\n",
        "# Get user input\n",
        "word = input(\"Enter a word to check: \")\n",
        "\n",
        "# Check if it's a Python keyword\n",
        "if keyword.iskeyword(word):\n",
        "    print(f\"'{word}' is a Python keyword.\")\n",
        "else:\n",
        "    print(f\"'{word}' is NOT a Python keyword.\")\n"
      ],
      "metadata": {
        "colab": {
          "base_uri": "https://localhost:8080/"
        },
        "id": "F-1uEkU29AZv",
        "outputId": "7d574f63-bfe7-45b5-c2bd-2a93b228a23e"
      },
      "execution_count": 48,
      "outputs": [
        {
          "output_type": "stream",
          "name": "stdout",
          "text": [
            "Enter a word to check: word\n",
            "'word' is NOT a Python keyword.\n"
          ]
        }
      ]
    },
    {
      "cell_type": "code",
      "source": [
        "# Creating a list and a tuple\n",
        "my_list = [1, 2, 3]\n",
        "my_tuple = (1, 2, 3)\n",
        "\n",
        "# Changing an element in the list\n",
        "print(\"Original list:\", my_list)\n",
        "my_list[0] = 10\n",
        "print(\"Modified list:\", my_list)\n",
        "\n",
        "# Trying to change an element in the tuple\n",
        "print(\"\\nOriginal tuple:\", my_tuple)\n",
        "try:\n",
        "    my_tuple[0] = 10\n",
        "except TypeError as e:\n",
        "    print(\"Error when trying to modify tuple:\", e)\n",
        ""
      ],
      "metadata": {
        "colab": {
          "base_uri": "https://localhost:8080/"
        },
        "id": "_-Yz_GM1Cwu5",
        "outputId": "8700b807-1682-45d7-dbbe-f2c6faf3df41"
      },
      "execution_count": 53,
      "outputs": [
        {
          "output_type": "stream",
          "name": "stdout",
          "text": [
            "Original list: [1, 2, 3]\n",
            "Modified list: [10, 2, 3]\n",
            "\n",
            "Original tuple: (1, 2, 3)\n",
            "Error when trying to modify tuple: 'tuple' object does not support item assignment\n"
          ]
        }
      ]
    },
    {
      "cell_type": "code",
      "source": [
        "def modify_arguments(num, text, lst):\n",
        "    # Try modifying the immutable arguments\n",
        "    num += 10\n",
        "    text += \" world\"\n",
        "\n",
        "    # Modify the mutable argument\n",
        "    lst.append(100)\n",
        "\n",
        "    print(\"\\nInside function:\")\n",
        "    print(\"num:\", num)\n",
        "    print(\"text:\", text)\n",
        "    print(\"list:\", lst)\n",
        "\n",
        "# Immutable types\n",
        "number = 5\n",
        "string = \"Hello\"\n",
        "\n",
        "# Mutable type\n",
        "my_list = [1, 2, 3]\n",
        "\n",
        "print(\"Before function call:\")\n",
        "print(\"number:\", number)\n",
        "print(\"string:\", string)\n",
        "print(\"list:\", my_list)\n",
        "\n",
        "# Call the function\n",
        "modify_arguments(number, string, my_list)\n",
        "\n",
        "print(\"\\nAfter function call:\")\n",
        "print(\"number:\", number)     # unchanged\n",
        "print(\"string:\", string)     # unchanged\n",
        "print(\"list:\", my_list)      # changed!\n"
      ],
      "metadata": {
        "colab": {
          "base_uri": "https://localhost:8080/"
        },
        "id": "JVyQEs20DL4l",
        "outputId": "395c2dbe-a868-4b44-86b2-143f03d0230f"
      },
      "execution_count": 54,
      "outputs": [
        {
          "output_type": "stream",
          "name": "stdout",
          "text": [
            "Before function call:\n",
            "number: 5\n",
            "string: Hello\n",
            "list: [1, 2, 3]\n",
            "\n",
            "Inside function:\n",
            "num: 15\n",
            "text: Hello world\n",
            "list: [1, 2, 3, 100]\n",
            "\n",
            "After function call:\n",
            "number: 5\n",
            "string: Hello\n",
            "list: [1, 2, 3, 100]\n"
          ]
        }
      ]
    },
    {
      "cell_type": "code",
      "source": [],
      "metadata": {
        "id": "jIA2g_dGEMNS"
      },
      "execution_count": null,
      "outputs": []
    }
  ]
}